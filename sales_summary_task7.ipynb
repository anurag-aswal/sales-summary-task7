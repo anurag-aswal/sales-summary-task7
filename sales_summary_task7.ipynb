{
 "cells": [
  {
   "cell_type": "code",
   "execution_count": 1,
   "id": "e4cffe3b-12fe-4d7d-a763-2a8729edf668",
   "metadata": {},
   "outputs": [],
   "source": [
    "import sqlite3\n",
    "import pandas as pd\n",
    "import matplotlib.pyplot as plt"
   ]
  },
  {
   "cell_type": "markdown",
   "id": "3ef03c06-b20f-495c-9a6e-c09340911d8e",
   "metadata": {},
   "source": [
    "Connecting to the SQLite Database"
   ]
  },
  {
   "cell_type": "code",
   "execution_count": 2,
   "id": "cee5122d-e87b-4f95-b994-fb925cfa62cf",
   "metadata": {},
   "outputs": [],
   "source": [
    "conn = sqlite3.connect(\"sales_data.db\")"
   ]
  },
  {
   "cell_type": "markdown",
   "id": "62d327d0-d255-43e9-9b42-e9f059576df2",
   "metadata": {},
   "source": [
    "Creating a sales table and inserting sales data"
   ]
  },
  {
   "cell_type": "code",
   "execution_count": 4,
   "id": "3ee3601b-3adf-48e0-9380-ce562b49dd76",
   "metadata": {},
   "outputs": [
    {
     "data": {
      "text/plain": [
       "<sqlite3.Cursor at 0x24424b054c0>"
      ]
     },
     "execution_count": 4,
     "metadata": {},
     "output_type": "execute_result"
    }
   ],
   "source": [
    "conn.execute('''CREATE TABLE IF NOT EXISTS sales (id INTEGER PRIMARY KEY AUTOINCREMENT, product TEXT, quantity INTEGER, price REAL)''')"
   ]
  },
  {
   "cell_type": "code",
   "execution_count": 6,
   "id": "ac4c5f6e-8723-49a4-a7bc-517f214bd47e",
   "metadata": {},
   "outputs": [],
   "source": [
    "sales_data = [('Laptop', 5, 999.99),('Smartphone', 12, 699.99),('Tablet', 8, 299.99),('Laptop', 3, 999.99),('Headphones', 20, 149.99),\n",
    "('Smartphone', 15, 699.99),('Monitor', 6, 249.99),('Keyboard', 25, 79.99),('Mouse', 30, 39.99),('Tablet', 10, 299.99),('Headphones', 18, 149.99),\n",
    "('Monitor', 4, 249.99)]\n",
    "conn.executemany('INSERT INTO sales (product, quantity, price) VALUES (?, ?, ?)', sales_data)\n",
    "conn.commit()"
   ]
  },
  {
   "cell_type": "code",
   "execution_count": 8,
   "id": "ee179949-32f1-4d7e-ae6d-577f3486ddbe",
   "metadata": {},
   "outputs": [
    {
     "name": "stdout",
     "output_type": "stream",
     "text": [
      "    id     product  quantity   price\n",
      "0    1      Laptop         5  999.99\n",
      "1    2  Smartphone        12  699.99\n",
      "2    3      Tablet         8  299.99\n",
      "3    4      Laptop         3  999.99\n",
      "4    5  Headphones        20  149.99\n",
      "5    6  Smartphone        15  699.99\n",
      "6    7     Monitor         6  249.99\n",
      "7    8    Keyboard        25   79.99\n",
      "8    9       Mouse        30   39.99\n",
      "9   10      Tablet        10  299.99\n",
      "10  11  Headphones        18  149.99\n",
      "11  12     Monitor         4  249.99\n"
     ]
    }
   ],
   "source": [
    "query = '''SELECT * FROM sales'''\n",
    "df = pd.read_sql_query(query, conn)\n",
    "print(df)"
   ]
  },
  {
   "cell_type": "markdown",
   "id": "56f02984-aaf5-445f-a83a-40270892986a",
   "metadata": {},
   "source": [
    "Query to get total quantity and revenue per product"
   ]
  },
  {
   "cell_type": "code",
   "execution_count": 10,
   "id": "004bd469-3b19-4711-b3d6-a0e16b7e9867",
   "metadata": {},
   "outputs": [
    {
     "name": "stdout",
     "output_type": "stream",
     "text": [
      "Sales Summary:\n",
      "      product  total_qty   revenue\n",
      "0  Headphones         38   5699.62\n",
      "1    Keyboard         25   1999.75\n",
      "2      Laptop          8   7999.92\n",
      "3     Monitor         10   2499.90\n",
      "4       Mouse         30   1199.70\n",
      "5  Smartphone         27  18899.73\n",
      "6      Tablet         18   5399.82\n"
     ]
    }
   ],
   "source": [
    "query = '''SELECT product, SUM(quantity) AS total_qty, SUM(quantity * price) AS revenue FROM sales GROUP BY product'''\n",
    "df = pd.read_sql_query(query, conn)\n",
    "print(\"Sales Summary:\")\n",
    "print(df)"
   ]
  },
  {
   "cell_type": "markdown",
   "id": "b772d92c-b5ea-4ddd-bdbf-b937479650b1",
   "metadata": {},
   "source": [
    "Plotting a simple bar chart for revenue"
   ]
  },
  {
   "cell_type": "code",
   "execution_count": 11,
   "id": "bbb62bcd-97ae-40d7-bfdc-22b4464b4416",
   "metadata": {},
   "outputs": [
    {
     "data": {
      "image/png": "[encoded data removed]",
      "text/plain": [
       "<Figure size 640x480 with 1 Axes>"
      ]
     },
     "metadata": {},
     "output_type": "display_data"
    }
   ],
   "source": [
    "df.plot(kind='bar', x='product', y='revenue', legend=False, color='skyblue')\n",
    "plt.title(\"Revenue by Product\")\n",
    "plt.xlabel(\"Product\")\n",
    "plt.ylabel(\"Revenue ($)\")\n",
    "plt.tight_layout()\n",
    "plt.savefig(\"sales_chart.png\")\n",
    "plt.show()"
   ]
  },
  {
   "cell_type": "code",
   "execution_count": 12,
   "id": "77eb8897-a090-4ade-a117-452cbbd4b4ee",
   "metadata": {},
   "outputs": [],
   "source": [
    "conn.close()"
   ]
  },
  {
   "cell_type": "code",
   "execution_count": null,
   "id": "200f7585-d453-4bf1-a51f-e61e20c26600",
   "metadata": {},
   "outputs": [],
   "source": []
  }
 ],
 "metadata": {
  "kernelspec": {
   "display_name": "Python 3 (ipykernel)",
   "language": "python",
   "name": "python3"
  },
  "language_info": {
   "codemirror_mode": {
    "name": "ipython",
    "version": 3
   },
   "file_extension": ".py",
   "mimetype": "text/x-python",
   "name": "python",
   "nbconvert_exporter": "python",
   "pygments_lexer": "ipython3",
   "version": "3.13.6"
  }
 },
 "nbformat": 4,
 "nbformat_minor": 5
}
